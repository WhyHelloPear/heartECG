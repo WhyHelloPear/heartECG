{
 "cells": [
  {
   "cell_type": "code",
   "execution_count": 2,
   "metadata": {},
   "outputs": [
    {
     "name": "stderr",
     "output_type": "stream",
     "text": [
      "Using TensorFlow backend.\n"
     ]
    }
   ],
   "source": [
    "import keras\n",
    "import numpy as np\n",
    "import pandas as pd\n",
    "import tensorflow as tf\n",
    "import matplotlib.pyplot as plt\n",
    "from sklearn.metrics import accuracy_score\n",
    "from sklearn.neighbors import KNeighborsClassifier\n",
    "from sklearn.model_selection import train_test_split\n",
    "from keras.layers import Dense, Conv1D, MaxPooling1D, Flatten, Dropout, BatchNormalization\n",
    "\n",
    "%matplotlib inline\n",
    "pd.plotting.register_matplotlib_converters()"
   ]
  },
  {
   "cell_type": "code",
   "execution_count": 3,
   "metadata": {},
   "outputs": [],
   "source": [
    "# Function is used to randomly reduce a dataset's sample size\n",
    "# Returns a df that is reduced_size % the size of the original dataset\n",
    "# ====================================================================\n",
    "# reduced_size: A percentage in range [0,1] that represents ratio of reduced size to the original (redice/original)\n",
    "# df: the df that will be reduced\n",
    "\n",
    "def reduce_df(reduced_size, df):\n",
    "    if reduced_size >= 0 and reduced_size <= 1:\n",
    "        n = df.shape[0]\n",
    "        num_drop = int(n * (1-reduced_size))\n",
    "        n_list = [i for i in range(n)]\n",
    "        np.random.shuffle(n_list)\n",
    "        drop_list = n_list[0:num_drop]\n",
    "        return df.drop(drop_list)\n",
    "    \n",
    "    else:\n",
    "        print('NO SAMPLES REMOVED!\\nEnter a valid reduction percentage in range [0,1]\\n')\n",
    "        return df"
   ]
  },
  {
   "cell_type": "code",
   "execution_count": 4,
   "metadata": {},
   "outputs": [
    {
     "name": "stdout",
     "output_type": "stream",
     "text": [
      "Orig # samples: 87553\n",
      "New # samples: 52532\n",
      "# samples removed: 35021\n",
      "Removed Ratio (should equal reduced_size param): 0.6\n"
     ]
    }
   ],
   "source": [
    "df_train = pd.read_csv('../heartECG_data/mitbih_train.csv')\n",
    "n_orig = df_train.shape[0]\n",
    "df_train = reduce_df(0.6,df_train) #shrink df by 60% of it's original size (# samples)\n",
    "n_new = df_train.shape[0]\n",
    "n_change = n_orig - n_new\n",
    "n_change_percent = round(n_new/n_orig,2)\n",
    "\n",
    "print('Orig # samples:', n_orig)\n",
    "print('New # samples:', n_new)\n",
    "print('# samples removed:', n_change)\n",
    "print('Removed Ratio (should equal reduced_size param):', n_change_percent)"
   ]
  },
  {
   "cell_type": "code",
   "execution_count": 5,
   "metadata": {},
   "outputs": [
    {
     "data": {
      "text/html": [
       "<div>\n",
       "<style scoped>\n",
       "    .dataframe tbody tr th:only-of-type {\n",
       "        vertical-align: middle;\n",
       "    }\n",
       "\n",
       "    .dataframe tbody tr th {\n",
       "        vertical-align: top;\n",
       "    }\n",
       "\n",
       "    .dataframe thead th {\n",
       "        text-align: right;\n",
       "    }\n",
       "</style>\n",
       "<table border=\"1\" class=\"dataframe\">\n",
       "  <thead>\n",
       "    <tr style=\"text-align: right;\">\n",
       "      <th></th>\n",
       "      <th>0</th>\n",
       "      <th>1</th>\n",
       "      <th>2</th>\n",
       "      <th>3</th>\n",
       "      <th>4</th>\n",
       "      <th>5</th>\n",
       "      <th>6</th>\n",
       "      <th>7</th>\n",
       "      <th>8</th>\n",
       "      <th>9</th>\n",
       "      <th>...</th>\n",
       "      <th>178</th>\n",
       "      <th>179</th>\n",
       "      <th>180</th>\n",
       "      <th>181</th>\n",
       "      <th>182</th>\n",
       "      <th>183</th>\n",
       "      <th>184</th>\n",
       "      <th>185</th>\n",
       "      <th>186</th>\n",
       "      <th>187</th>\n",
       "    </tr>\n",
       "  </thead>\n",
       "  <tbody>\n",
       "    <tr>\n",
       "      <th>7</th>\n",
       "      <td>0.874214</td>\n",
       "      <td>0.849057</td>\n",
       "      <td>0.480084</td>\n",
       "      <td>0.058700</td>\n",
       "      <td>0.090147</td>\n",
       "      <td>0.310273</td>\n",
       "      <td>0.387841</td>\n",
       "      <td>0.385744</td>\n",
       "      <td>0.389937</td>\n",
       "      <td>0.392034</td>\n",
       "      <td>...</td>\n",
       "      <td>0.0</td>\n",
       "      <td>0.0</td>\n",
       "      <td>0.0</td>\n",
       "      <td>0.0</td>\n",
       "      <td>0.0</td>\n",
       "      <td>0.0</td>\n",
       "      <td>0.0</td>\n",
       "      <td>0.0</td>\n",
       "      <td>0.0</td>\n",
       "      <td>0.0</td>\n",
       "    </tr>\n",
       "    <tr>\n",
       "      <th>9</th>\n",
       "      <td>0.985507</td>\n",
       "      <td>0.880435</td>\n",
       "      <td>0.518116</td>\n",
       "      <td>0.213768</td>\n",
       "      <td>0.126812</td>\n",
       "      <td>0.119565</td>\n",
       "      <td>0.083333</td>\n",
       "      <td>0.079710</td>\n",
       "      <td>0.065217</td>\n",
       "      <td>0.068841</td>\n",
       "      <td>...</td>\n",
       "      <td>0.0</td>\n",
       "      <td>0.0</td>\n",
       "      <td>0.0</td>\n",
       "      <td>0.0</td>\n",
       "      <td>0.0</td>\n",
       "      <td>0.0</td>\n",
       "      <td>0.0</td>\n",
       "      <td>0.0</td>\n",
       "      <td>0.0</td>\n",
       "      <td>0.0</td>\n",
       "    </tr>\n",
       "    <tr>\n",
       "      <th>11</th>\n",
       "      <td>0.986737</td>\n",
       "      <td>0.962865</td>\n",
       "      <td>0.809019</td>\n",
       "      <td>0.358090</td>\n",
       "      <td>0.082228</td>\n",
       "      <td>0.161804</td>\n",
       "      <td>0.137931</td>\n",
       "      <td>0.079576</td>\n",
       "      <td>0.031830</td>\n",
       "      <td>0.063660</td>\n",
       "      <td>...</td>\n",
       "      <td>0.0</td>\n",
       "      <td>0.0</td>\n",
       "      <td>0.0</td>\n",
       "      <td>0.0</td>\n",
       "      <td>0.0</td>\n",
       "      <td>0.0</td>\n",
       "      <td>0.0</td>\n",
       "      <td>0.0</td>\n",
       "      <td>0.0</td>\n",
       "      <td>0.0</td>\n",
       "    </tr>\n",
       "    <tr>\n",
       "      <th>16</th>\n",
       "      <td>0.986072</td>\n",
       "      <td>0.506964</td>\n",
       "      <td>0.350975</td>\n",
       "      <td>0.214485</td>\n",
       "      <td>0.133705</td>\n",
       "      <td>0.097493</td>\n",
       "      <td>0.083565</td>\n",
       "      <td>0.091922</td>\n",
       "      <td>0.072423</td>\n",
       "      <td>0.072423</td>\n",
       "      <td>...</td>\n",
       "      <td>0.0</td>\n",
       "      <td>0.0</td>\n",
       "      <td>0.0</td>\n",
       "      <td>0.0</td>\n",
       "      <td>0.0</td>\n",
       "      <td>0.0</td>\n",
       "      <td>0.0</td>\n",
       "      <td>0.0</td>\n",
       "      <td>0.0</td>\n",
       "      <td>0.0</td>\n",
       "    </tr>\n",
       "    <tr>\n",
       "      <th>17</th>\n",
       "      <td>1.000000</td>\n",
       "      <td>0.935010</td>\n",
       "      <td>0.622642</td>\n",
       "      <td>0.291405</td>\n",
       "      <td>0.236897</td>\n",
       "      <td>0.224319</td>\n",
       "      <td>0.157233</td>\n",
       "      <td>0.140461</td>\n",
       "      <td>0.138365</td>\n",
       "      <td>0.136268</td>\n",
       "      <td>...</td>\n",
       "      <td>0.0</td>\n",
       "      <td>0.0</td>\n",
       "      <td>0.0</td>\n",
       "      <td>0.0</td>\n",
       "      <td>0.0</td>\n",
       "      <td>0.0</td>\n",
       "      <td>0.0</td>\n",
       "      <td>0.0</td>\n",
       "      <td>0.0</td>\n",
       "      <td>0.0</td>\n",
       "    </tr>\n",
       "  </tbody>\n",
       "</table>\n",
       "<p>5 rows × 188 columns</p>\n",
       "</div>"
      ],
      "text/plain": [
       "         0         1         2         3         4         5         6    \\\n",
       "7   0.874214  0.849057  0.480084  0.058700  0.090147  0.310273  0.387841   \n",
       "9   0.985507  0.880435  0.518116  0.213768  0.126812  0.119565  0.083333   \n",
       "11  0.986737  0.962865  0.809019  0.358090  0.082228  0.161804  0.137931   \n",
       "16  0.986072  0.506964  0.350975  0.214485  0.133705  0.097493  0.083565   \n",
       "17  1.000000  0.935010  0.622642  0.291405  0.236897  0.224319  0.157233   \n",
       "\n",
       "         7         8         9    ...  178  179  180  181  182  183  184  185  \\\n",
       "7   0.385744  0.389937  0.392034  ...  0.0  0.0  0.0  0.0  0.0  0.0  0.0  0.0   \n",
       "9   0.079710  0.065217  0.068841  ...  0.0  0.0  0.0  0.0  0.0  0.0  0.0  0.0   \n",
       "11  0.079576  0.031830  0.063660  ...  0.0  0.0  0.0  0.0  0.0  0.0  0.0  0.0   \n",
       "16  0.091922  0.072423  0.072423  ...  0.0  0.0  0.0  0.0  0.0  0.0  0.0  0.0   \n",
       "17  0.140461  0.138365  0.136268  ...  0.0  0.0  0.0  0.0  0.0  0.0  0.0  0.0   \n",
       "\n",
       "    186  187  \n",
       "7   0.0  0.0  \n",
       "9   0.0  0.0  \n",
       "11  0.0  0.0  \n",
       "16  0.0  0.0  \n",
       "17  0.0  0.0  \n",
       "\n",
       "[5 rows x 188 columns]"
      ]
     },
     "execution_count": 5,
     "metadata": {},
     "output_type": "execute_result"
    }
   ],
   "source": [
    "cols = [i for i in range(188)]\n",
    "df_train.columns = cols\n",
    "df_train.head()"
   ]
  },
  {
   "cell_type": "code",
   "execution_count": 6,
   "metadata": {},
   "outputs": [
    {
     "name": "stdout",
     "output_type": "stream",
     "text": [
      "# training samples: 42025\n",
      "# test samples: 10507\n"
     ]
    },
    {
     "data": {
      "text/plain": [
       "(42025, 187, 1)"
      ]
     },
     "execution_count": 6,
     "metadata": {},
     "output_type": "execute_result"
    }
   ],
   "source": [
    "X = np.array(df_train.iloc[:,0:-1])\n",
    "y = df_train.iloc[:,-1]\n",
    "\n",
    "X_train, X_test, y_train, y_test = train_test_split(X, y, test_size=0.2, random_state=42)\n",
    "\n",
    "print('# training samples:', X_train.shape[0])\n",
    "print('# test samples:', X_test.shape[0])\n",
    "\n",
    "\n",
    "n_steps = 187\n",
    "# n_samples = X_train.shape[0]\n",
    "# n_features = X_train.shape[1]\n",
    "n_features = 1\n",
    "X = X.reshape((X.shape[0], X.shape[1], n_features))\n",
    "\n",
    "X_train = X_train.reshape(X_train.shape[0], X_train.shape[1],n_features)\n",
    "X_test = X_test.reshape(X_test.shape[0], X_test.shape[1],1)\n",
    "X_train.shape"
   ]
  },
  {
   "cell_type": "code",
   "execution_count": 116,
   "metadata": {
    "scrolled": false
   },
   "outputs": [
    {
     "name": "stdout",
     "output_type": "stream",
     "text": [
      "Model: \"sequential_16\"\n",
      "_________________________________________________________________\n",
      "Layer (type)                 Output Shape              Param #   \n",
      "=================================================================\n",
      "conv1d_16 (Conv1D)           (None, 187, 64)           192       \n",
      "_________________________________________________________________\n",
      "dropout_14 (Dropout)         (None, 187, 64)           0         \n",
      "_________________________________________________________________\n",
      "max_pooling1d_13 (MaxPooling (None, 93, 64)            0         \n",
      "_________________________________________________________________\n",
      "flatten_13 (Flatten)         (None, 5952)              0         \n",
      "_________________________________________________________________\n",
      "dense_22 (Dense)             (None, 100)               595300    \n",
      "_________________________________________________________________\n",
      "batch_normalization_1 (Batch (None, 100)               400       \n",
      "_________________________________________________________________\n",
      "dense_23 (Dense)             (None, 50)                5050      \n",
      "_________________________________________________________________\n",
      "dense_24 (Dense)             (None, 1)                 51        \n",
      "=================================================================\n",
      "Total params: 600,993\n",
      "Trainable params: 600,793\n",
      "Non-trainable params: 200\n",
      "_________________________________________________________________\n",
      "Epoch 1/20\n",
      "42025/42025 [==============================] - 17s 405us/step - loss: 1.0428 - accuracy: 0.8036\n",
      "Epoch 2/20\n",
      "42025/42025 [==============================] - 16s 375us/step - loss: 0.6532 - accuracy: 0.8234\n",
      "Epoch 3/20\n",
      "42025/42025 [==============================] - 16s 374us/step - loss: 0.4361 - accuracy: 0.8588\n",
      "Epoch 4/20\n",
      "42025/42025 [==============================] - 16s 376us/step - loss: 0.3091 - accuracy: 0.8616\n",
      "Epoch 5/20\n",
      "42025/42025 [==============================] - 16s 384us/step - loss: 0.2390 - accuracy: 0.8558\n",
      "Epoch 6/20\n",
      "42025/42025 [==============================] - 16s 375us/step - loss: 0.1796 - accuracy: 0.8657\n",
      "Epoch 7/20\n",
      "42025/42025 [==============================] - 16s 376us/step - loss: 0.1399 - accuracy: 0.8927\n",
      "Epoch 8/20\n",
      "42025/42025 [==============================] - 16s 380us/step - loss: 0.1252 - accuracy: 0.9407\n",
      "Epoch 9/20\n",
      "42025/42025 [==============================] - 16s 370us/step - loss: 0.1008 - accuracy: 0.9513\n",
      "Epoch 10/20\n",
      "42025/42025 [==============================] - 16s 376us/step - loss: 0.0966 - accuracy: 0.9543\n",
      "Epoch 11/20\n",
      "42025/42025 [==============================] - 16s 384us/step - loss: 0.0839 - accuracy: 0.9587\n",
      "Epoch 12/20\n",
      "42025/42025 [==============================] - 16s 391us/step - loss: 0.0848 - accuracy: 0.9583\n",
      "Epoch 13/20\n",
      "42025/42025 [==============================] - 16s 385us/step - loss: 0.0834 - accuracy: 0.9605\n",
      "Epoch 14/20\n",
      "42025/42025 [==============================] - 16s 388us/step - loss: 0.0796 - accuracy: 0.9610\n",
      "Epoch 15/20\n",
      "42025/42025 [==============================] - 17s 404us/step - loss: 0.0774 - accuracy: 0.9632\n",
      "Epoch 16/20\n",
      "42025/42025 [==============================] - 17s 393us/step - loss: 0.0746 - accuracy: 0.9635\n",
      "Epoch 17/20\n",
      "42025/42025 [==============================] - ETA: 0s - loss: 0.0710 - accuracy: 0.96 - 17s 396us/step - loss: 0.0709 - accuracy: 0.9646\n",
      "Epoch 18/20\n",
      "42025/42025 [==============================] - 17s 398us/step - loss: 0.0650 - accuracy: 0.9660\n",
      "Epoch 19/20\n",
      "42025/42025 [==============================] - 17s 398us/step - loss: 0.0662 - accuracy: 0.9649\n",
      "Epoch 20/20\n",
      "42025/42025 [==============================] - 17s 399us/step - loss: 0.0667 - accuracy: 0.9673\n"
     ]
    }
   ],
   "source": [
    "model = keras.models.Sequential()\n",
    "\n",
    "model.add(Conv1D(filters=64, kernel_size=2, padding='same', activation='relu', input_shape=(n_steps, n_features)))\n",
    "model.add(Dropout(0.5))\n",
    "model.add(MaxPooling1D(pool_size=2))\n",
    "model.add(Flatten())\n",
    "model.add(Dense(100, activation='relu'))\n",
    "model.add(BatchNormalization())\n",
    "model.add(Dense(50, activation='softmax'))\n",
    "model.add(Dense(1))\n",
    "model.compile(loss='mse', optimizer='adam', metrics=['accuracy'])\n",
    "\n",
    "model.summary()\n",
    "history = model.fit(X_train, y_train, epochs=20, batch_size=100, verbose=1)"
   ]
  },
  {
   "cell_type": "code",
   "execution_count": 117,
   "metadata": {},
   "outputs": [
    {
     "data": {
      "image/png": "[encoded data removed]",
      "text/plain": [
       "<Figure size 1152x576 with 2 Axes>"
      ]
     },
     "metadata": {
      "needs_background": "light"
     },
     "output_type": "display_data"
    }
   ],
   "source": [
    "plt.figure(figsize = (16,8))\n",
    "plt.subplot(2,2,1).plot(history.history['accuracy'], c='b')\n",
    "plt.title('Model Accuracy')\n",
    "plt.ylabel('Percentage')\n",
    "plt.xlabel('Epoch')\n",
    "plt.xticks(np.arange(0,21,step=5))\n",
    "\n",
    "\n",
    "plt.subplot(2,2,2).plot(history.history['loss'], c='r')\n",
    "plt.title('Model Loss')\n",
    "plt.ylabel('Percentage')\n",
    "plt.xlabel('Epoch')\n",
    "plt.xticks(np.arange(21,step=5))\n",
    "plt.show()"
   ]
  },
  {
   "cell_type": "code",
   "execution_count": 122,
   "metadata": {},
   "outputs": [],
   "source": [
    "y_hat = model.predict(X_test)\n",
    "y_hat\n",
    "\n",
    "fin = []\n",
    "for y in y_hat:\n",
    "    fin.append(np.sqrt(round(y[0]) ** 2))\n",
    "y_hat = fin"
   ]
  },
  {
   "cell_type": "code",
   "execution_count": 123,
   "metadata": {},
   "outputs": [
    {
     "data": {
      "text/plain": [
       "0.9575521081183973"
      ]
     },
     "execution_count": 123,
     "metadata": {},
     "output_type": "execute_result"
    }
   ],
   "source": [
    "accuracy_score(y_test, fin)"
   ]
  },
  {
   "cell_type": "code",
   "execution_count": null,
   "metadata": {},
   "outputs": [],
   "source": []
  },
  {
   "cell_type": "code",
   "execution_count": null,
   "metadata": {},
   "outputs": [],
   "source": []
  }
 ],
 "metadata": {
  "kernelspec": {
   "display_name": "Python 3",
   "language": "python",
   "name": "python3"
  },
  "language_info": {
   "codemirror_mode": {
    "name": "ipython",
    "version": 3
   },
   "file_extension": ".py",
   "mimetype": "text/x-python",
   "name": "python",
   "nbconvert_exporter": "python",
   "pygments_lexer": "ipython3",
   "version": "3.7.3"
  }
 },
 "nbformat": 4,
 "nbformat_minor": 4
}
